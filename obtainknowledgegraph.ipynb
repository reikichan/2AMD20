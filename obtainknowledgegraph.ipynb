{
 "cells": [
  {
   "cell_type": "markdown",
   "metadata": {},
   "source": [
    "### Obtain rdf file for visualization\n",
    "Requirements for running this notebook\n",
    "- pip install rdflib"
   ]
  },
  {
   "cell_type": "code",
   "execution_count": 58,
   "metadata": {},
   "outputs": [],
   "source": [
    "# IMPORTS\n",
    "import pandas as pd\n",
    "import os\n",
    "import glob\n",
    "import csv\n",
    "import numpy as np\n",
    "from rdflib import Graph, URIRef, Namespace"
   ]
  },
  {
   "cell_type": "code",
   "execution_count": 15,
   "metadata": {},
   "outputs": [],
   "source": [
    "# read data\n",
    "data = pd.read_csv(\"data/preprocessed_data.csv\")"
   ]
  },
  {
   "cell_type": "code",
   "execution_count": 60,
   "metadata": {},
   "outputs": [],
   "source": [
    "# TODO: CHOOSE A GOOD SAMPLE THAT WE CAN SHOW\n",
    "\"\"\"\n",
    "The website can't handle so many data. So we will only visualize a sample that represents the entire data structure. \n",
    "In \"var: get_data\" we select a couple of cities in order to generate the knowledge graph (due to capacity of the tool) \n",
    "as a representative of how the data is structured overall. \n",
    "If you decide to choose another sample make sure to rename the file name according to what you have selected.\n",
    "Below you can find the sample that we have used and the corresponding name\n",
    "SAMPLE:\n",
    "    chosen sample:  get_data = data[data['Object'] == 'Noord-Brabant']['Subject'].tolist()[0:2]\n",
    "    in general: get_data = data[data['Object'] == 'PROVINCE']['Subject'].tolist()[0:RANGE]\n",
    "    If another sample is desired, you can change PROVINCE, and RANGE (goes up to the number of municipalities in that province)\n",
    "\"\"\"\n",
    "get_data = data[data['Object'] == 'Noord-Brabant']['Subject'].tolist()[0:2]\n",
    "vizdata = data.loc[data['Subject'].isin(get_data)]\n",
    "\n",
    "# obtain RDF data\n",
    "g = Graph()\n",
    "n = Namespace('ex:')\n",
    "\n",
    "for inded, row in vizdata.iterrows():\n",
    "    # add triple to rdf-graph\n",
    "    g.add((URIRef(n+row[\"Subject\"]), URIRef(n+row[\"Predicate\"]), URIRef(n+row[\"Object\"])))\n",
    "\n",
    "ttl = g.serialize(format = 'turtle')\n",
    "with open('sample.ttl', 'w') as file:\n",
    "    file.write(ttl)"
   ]
  },
  {
   "cell_type": "markdown",
   "metadata": {},
   "source": [
    "### Upload generated file on this website:\n",
    "- Click vizualize code snippet and paste the contents of the file in the input space\n",
    "- https://issemantic.net/rdf-visualizer"
   ]
  }
 ],
 "metadata": {
  "interpreter": {
   "hash": "db3ad00c254152fbd946dfe3ddf750e2d6dd1f511dd85499e770b0c6b301697a"
  },
  "kernelspec": {
   "display_name": "Python 3.9.7 ('base')",
   "language": "python",
   "name": "python3"
  },
  "language_info": {
   "codemirror_mode": {
    "name": "ipython",
    "version": 3
   },
   "file_extension": ".py",
   "mimetype": "text/x-python",
   "name": "python",
   "nbconvert_exporter": "python",
   "pygments_lexer": "ipython3",
   "version": "3.9.7"
  },
  "orig_nbformat": 4
 },
 "nbformat": 4,
 "nbformat_minor": 2
}
