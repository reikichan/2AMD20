{
 "cells": [
  {
   "cell_type": "markdown",
   "metadata": {},
   "source": [
    "## File aquiration"
   ]
  },
  {
   "cell_type": "code",
   "execution_count": 1,
   "metadata": {},
   "outputs": [],
   "source": [
    "# IMPORTS\n",
    "import pandas as pd\n",
    "import os\n",
    "import glob\n",
    "import csv\n",
    "import numpy as np"
   ]
  },
  {
   "cell_type": "markdown",
   "metadata": {},
   "source": [
    "### Source 1 preprocessing"
   ]
  },
  {
   "cell_type": "code",
   "execution_count": 5,
   "metadata": {},
   "outputs": [],
   "source": [
    "# Source file cleaning\n",
    "source_number = 1\n",
    "source_folder_path = f\"data/Source_{source_number}\"\n",
    "\n",
    "# Open the source folder to take all CSV's from\n",
    "csv_files_Source = glob.glob(os.path.join(f\"{source_folder_path}\", \"*.csv\"))\n",
    "\n",
    "# Open the file to store the new CSV in\n",
    "compiled_file_source = open(f\"{source_folder_path}/Source_{source_number}_full_converted_raw.csv\", \"a\", encoding='utf-8-sig')\n",
    "# Start the CSV writer\n",
    "compiled_file_source_writer = csv.writer(compiled_file_source)\n",
    "\n",
    "# Go through all raw source files in the provided folder\n",
    "for file_path in csv_files_Source:\n",
    "    raw_file = open(file_path, \"r\", encoding='utf-8-sig')\n",
    "    # Split the input file in lines\n",
    "    #ORIGINAL: raw_file_lines = raw_file.readlines(), leaves /r/n on last column entires\n",
    "    \n",
    "    raw_file_lines = raw_file.read().splitlines()\n",
    "    for line in raw_file_lines:\n",
    "        # Split each line on the column split symbol \";\"\n",
    "        raw_line_split = line.split(';')\n",
    "        # Add the split row to the new file\n",
    "        compiled_file_source_writer.writerow(raw_line_split)\n",
    "    raw_file.close()\n",
    "compiled_file_source.close()"
   ]
  },
  {
   "cell_type": "markdown",
   "metadata": {},
   "source": [
    "### Source 2 preprocessing"
   ]
  },
  {
   "cell_type": "code",
   "execution_count": null,
   "metadata": {},
   "outputs": [],
   "source": [
    "# Source file cleaning\n",
    "source_number = 2\n",
    "source_folder_path = f\"data/Source_{source_number}\"\n",
    "\n",
    "# Open the source folder to take all CSV's from\n",
    "csv_files_Source = glob.glob(os.path.join(f\"{source_folder_path}\", \"*.csv\"))\n",
    "\n",
    "# Open the file to store the new CSV in\n",
    "compiled_file_source = open(f\"{source_folder_path}/Source_{source_number}_full_converted_raw.csv\", \"a\", encoding='utf-8-sig')\n",
    "# Start the CSV writer\n",
    "compiled_file_source_writer = csv.writer(compiled_file_source)\n",
    "\n",
    "# Go through all raw source files in the provided folder\n",
    "for file_path in csv_files_Source:\n",
    "    raw_file = open(file_path, \"r\", encoding='utf-8-sig')\n",
    "    # Split the input file in lines\n",
    "    #ORIGINAL: raw_file_lines = raw_file.readlines(), leaves /r/n on last column entires\n",
    "    \n",
    "    raw_file_lines = raw_file.read().splitlines()\n",
    "    for line in raw_file_lines:\n",
    "        # Split each line on the column split symbol \";\"\n",
    "        raw_line_split = line.split(';')\n",
    "        # Add the split row to the new file\n",
    "        compiled_file_source_writer.writerow(raw_line_split)\n",
    "    raw_file.close()\n",
    "compiled_file_source.close()"
   ]
  },
  {
   "cell_type": "markdown",
   "metadata": {},
   "source": [
    "### Source 4 preprocessing"
   ]
  },
  {
   "cell_type": "code",
   "execution_count": null,
   "metadata": {},
   "outputs": [],
   "source": [
    "# Source file cleaning\n",
    "source_number = 4\n",
    "source_folder_path = f\"data/Source_{source_number}\"\n",
    "\n",
    "# Open the source folder to take all CSV's from\n",
    "csv_files_Source = glob.glob(os.path.join(f\"{source_folder_path}\", \"*.csv\"))\n",
    "\n",
    "# Open the file to store the new CSV in\n",
    "compiled_file_source = open(f\"{source_folder_path}/Source_{source_number}_full_converted_raw.csv\", \"a\", encoding='utf-8-sig')\n",
    "# Start the CSV writer\n",
    "compiled_file_source_writer = csv.writer(compiled_file_source)\n",
    "\n",
    "# Go through all raw source files in the provided folder\n",
    "for file_path in csv_files_Source:\n",
    "    raw_file = open(file_path, \"r\", encoding='utf-8-sig')\n",
    "    # Split the input file in lines\n",
    "    raw_file_lines = raw_file.read().splitlines()\n",
    "    for line in raw_file_lines:\n",
    "        # Split each line on the column split symbol \";\"\n",
    "        raw_line_split = line.split(';')\n",
    "        # Add the split row to the new file\n",
    "        compiled_file_source_writer.writerow(raw_line_split)\n",
    "    raw_file.close()\n",
    "compiled_file_source.close()"
   ]
  },
  {
   "cell_type": "markdown",
   "metadata": {},
   "source": [
    "### Source 5 preprocessing"
   ]
  },
  {
   "cell_type": "code",
   "execution_count": 5,
   "metadata": {},
   "outputs": [],
   "source": [
    "# Source file cleaning\n",
    "source_number = 5\n",
    "source_folder_path = f\"data/Source_{source_number}\"\n",
    "\n",
    "# Open the source folder to take all CSV's from\n",
    "csv_files_Source = glob.glob(os.path.join(f\"{source_folder_path}\", \"*.csv\"))\n",
    "\n",
    "# Open the file to store the new CSV in\n",
    "compiled_file_source = open(f\"{source_folder_path}/Source_{source_number}_full_converted_raw.csv\", \"a\", encoding='utf-8-sig')\n",
    "# Start the CSV writer\n",
    "compiled_file_source_writer = csv.writer(compiled_file_source)\n",
    "\n",
    "# Go through all raw source files in the provided folder\n",
    "for file_path in csv_files_Source:\n",
    "    raw_file = open(file_path, \"r\", encoding='utf-8-sig')\n",
    "    # Split the input file in lines\n",
    "    raw_file_lines = raw_file.read().splitlines()\n",
    "    for line in raw_file_lines:\n",
    "        # Split each line on the column split symbol \";\"\n",
    "        raw_line_split = line.split(';')\n",
    "        # Add the split row to the new file\n",
    "        compiled_file_source_writer.writerow(raw_line_split)\n",
    "    raw_file.close()\n",
    "compiled_file_source.close()"
   ]
  },
  {
   "cell_type": "markdown",
   "metadata": {},
   "source": [
    "### Source 6 preprocessing"
   ]
  },
  {
   "cell_type": "code",
   "execution_count": null,
   "metadata": {},
   "outputs": [],
   "source": [
    "# Source file cleaning\n",
    "source_number = 6\n",
    "source_folder_path = f\"data/Source_{source_number}\"\n",
    "\n",
    "# Open the source folder to take all CSV's from\n",
    "csv_files_Source = glob.glob(os.path.join(f\"{source_folder_path}\", \"*.csv\"))\n",
    "\n",
    "# Open the file to store the new CSV in\n",
    "compiled_file_source = open(f\"{source_folder_path}/Source_{source_number}_full_converted_raw.csv\", \"a\", encoding='utf-8-sig')\n",
    "# Start the CSV writer\n",
    "compiled_file_source_writer = csv.writer(compiled_file_source)\n",
    "\n",
    "# Go through all raw source files in the provided folder\n",
    "for file_path in csv_files_Source:\n",
    "    raw_file = open(file_path, \"r\", encoding='utf-8-sig')\n",
    "    # Split the input file in lines\n",
    "    raw_file_lines = raw_file.read().splitlines()\n",
    "    for line in raw_file_lines:\n",
    "        # Split each line on the column split symbol \";\"\n",
    "        raw_line_split = line.split(';')\n",
    "        # Add the split row to the new file\n",
    "        compiled_file_source_writer.writerow(raw_line_split)\n",
    "    raw_file.close()\n",
    "compiled_file_source.close()"
   ]
  },
  {
   "cell_type": "markdown",
   "metadata": {},
   "source": [
    "### Source 7 preprocessing"
   ]
  },
  {
   "cell_type": "code",
   "execution_count": null,
   "metadata": {},
   "outputs": [],
   "source": [
    "# Source file cleaning\n",
    "source_number = 7\n",
    "source_folder_path = f\"data/Source_{source_number}\"\n",
    "\n",
    "# Open the source folder to take all CSV's from\n",
    "csv_files_Source = glob.glob(os.path.join(f\"{source_folder_path}\", \"*.csv\"))\n",
    "\n",
    "# Open the file to store the new CSV in\n",
    "compiled_file_source = open(f\"{source_folder_path}/Source_{source_number}_full_converted_raw.csv\", \"a\", encoding='utf-8-sig')\n",
    "# Start the CSV writer\n",
    "compiled_file_source_writer = csv.writer(compiled_file_source)\n",
    "\n",
    "# Go through all raw source files in the provided folder\n",
    "for file_path in csv_files_Source:\n",
    "    raw_file = open(file_path, \"r\", encoding='utf-8-sig')\n",
    "    # Split the input file in lines\n",
    "    raw_file_lines = raw_file.read().splitlines()\n",
    "    for line in raw_file_lines:\n",
    "        # Split each line on the column split symbol \";\"\n",
    "        raw_line_split = line.split(';')\n",
    "        # Add the split row to the new file\n",
    "        compiled_file_source_writer.writerow(raw_line_split)\n",
    "    raw_file.close()\n",
    "compiled_file_source.close()"
   ]
  },
  {
   "cell_type": "markdown",
   "metadata": {},
   "source": [
    "### Source 9 preprocessing"
   ]
  },
  {
   "cell_type": "code",
   "execution_count": null,
   "metadata": {},
   "outputs": [],
   "source": [
    "# Source file cleaning\n",
    "source_number = 9\n",
    "source_folder_path = f\"data/Source_{source_number}\"\n",
    "\n",
    "# Open the source folder to take all CSV's from\n",
    "csv_files_Source = glob.glob(os.path.join(f\"{source_folder_path}\", \"*.csv\"))\n",
    "\n",
    "# Open the file to store the new CSV in\n",
    "compiled_file_source = open(f\"{source_folder_path}/Source_{source_number}_full_converted_raw.csv\", \"a\", encoding='utf-8-sig')\n",
    "# Start the CSV writer\n",
    "compiled_file_source_writer = csv.writer(compiled_file_source)\n",
    "\n",
    "# Go through all raw source files in the provided folder\n",
    "for file_path in csv_files_Source:\n",
    "    raw_file = open(file_path, \"r\", encoding='utf-8-sig')\n",
    "    # Split the input file in lines\n",
    "    raw_file_lines = raw_file.read().splitlines()\n",
    "    for line in raw_file_lines:\n",
    "        # Split each line on the column split symbol \";\"\n",
    "        raw_line_split = line.split(';')\n",
    "        # Add the split row to the new file\n",
    "        compiled_file_source_writer.writerow(raw_line_split)\n",
    "    raw_file.close()\n",
    "compiled_file_source.close()"
   ]
  },
  {
   "cell_type": "markdown",
   "metadata": {},
   "source": [
    "### Source 11 preprocessing"
   ]
  },
  {
   "cell_type": "code",
   "execution_count": null,
   "metadata": {},
   "outputs": [],
   "source": [
    "# Source file cleaning\n",
    "source_number = 11\n",
    "source_folder_path = f\"data/Source_{source_number}\"\n",
    "\n",
    "# Open the source folder to take all CSV's from\n",
    "csv_files_Source = glob.glob(os.path.join(f\"{source_folder_path}\", \"*.csv\"))\n",
    "\n",
    "# Open the file to store the new CSV in\n",
    "compiled_file_source = open(f\"{source_folder_path}/Source_{source_number}_full_converted_raw.csv\", \"a\", encoding='utf-8-sig')\n",
    "# Start the CSV writer\n",
    "compiled_file_source_writer = csv.writer(compiled_file_source)\n",
    "\n",
    "# Go through all raw source files in the provided folder\n",
    "for file_path in csv_files_Source:\n",
    "    raw_file = open(file_path, \"r\", encoding='utf-8-sig')\n",
    "    # Split the input file in lines\n",
    "    raw_file_lines = raw_file.read().splitlines()\n",
    "    for line in raw_file_lines:\n",
    "        # Split each line on the column split symbol \";\"\n",
    "        raw_line_split = line.split(';')\n",
    "        # Add the split row to the new file\n",
    "        compiled_file_source_writer.writerow(raw_line_split)\n",
    "    raw_file.close()\n",
    "compiled_file_source.close()"
   ]
  },
  {
   "cell_type": "markdown",
   "metadata": {},
   "source": [
    "### Source 14 preprocessing"
   ]
  },
  {
   "cell_type": "code",
   "execution_count": null,
   "metadata": {},
   "outputs": [],
   "source": [
    "# Source file cleaning\n",
    "source_number = 14\n",
    "source_folder_path = f\"data/Source_{source_number}\"\n",
    "\n",
    "# Open the source folder to take all CSV's from\n",
    "csv_files_Source = glob.glob(os.path.join(f\"{source_folder_path}\", \"*.csv\"))\n",
    "\n",
    "# Open the file to store the new CSV in\n",
    "compiled_file_source = open(f\"{source_folder_path}/Source_{source_number}_full_converted_raw.csv\", \"a\", encoding='utf-8-sig')\n",
    "# Start the CSV writer\n",
    "compiled_file_source_writer = csv.writer(compiled_file_source)\n",
    "\n",
    "# Go through all raw source files in the provided folder\n",
    "for file_path in csv_files_Source:\n",
    "    raw_file = open(file_path, \"r\", encoding='utf-8-sig')\n",
    "    # Split the input file in lines\n",
    "    raw_file_lines = raw_file.read().splitlines()\n",
    "    for line in raw_file_lines:\n",
    "        # Split each line on the column split symbol \";\"\n",
    "        raw_line_split = line.split(';')\n",
    "        # Add the split row to the new file\n",
    "        compiled_file_source_writer.writerow(raw_line_split)\n",
    "    raw_file.close()\n",
    "compiled_file_source.close()"
   ]
  }
 ],
 "metadata": {
  "interpreter": {
   "hash": "adaaa5d75d60d6dfc06c9d60b6aa1559542457868c7276143088c4682ec1a4cf"
  },
  "kernelspec": {
   "display_name": "Python 3 (ipykernel)",
   "language": "python",
   "name": "python3"
  },
  "language_info": {
   "codemirror_mode": {
    "name": "ipython",
    "version": 3
   },
   "file_extension": ".py",
   "mimetype": "text/x-python",
   "name": "python",
   "nbconvert_exporter": "python",
   "pygments_lexer": "ipython3",
   "version": "3.9.5"
  }
 },
 "nbformat": 4,
 "nbformat_minor": 4
}
